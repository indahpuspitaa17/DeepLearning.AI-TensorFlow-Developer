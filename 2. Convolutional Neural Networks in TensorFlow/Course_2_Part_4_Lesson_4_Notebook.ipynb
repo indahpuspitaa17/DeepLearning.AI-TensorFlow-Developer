{
  "nbformat": 4,
  "nbformat_minor": 0,
  "metadata": {
    "accelerator": "GPU",
    "colab": {
      "name": "Course 2 - Part 4 - Lesson 4 - Notebook.ipynb",
      "provenance": [],
      "collapsed_sections": [],
      "toc_visible": true,
      "include_colab_link": true
    },
    "kernelspec": {
      "display_name": "Python 3",
      "name": "python3"
    }
  },
  "cells": [
    {
      "cell_type": "markdown",
      "metadata": {
        "id": "view-in-github",
        "colab_type": "text"
      },
      "source": [
        "<a href=\"https://colab.research.google.com/github/indahpuspitaa17/DeepLearning.AI-TensorFlow-Developer/blob/main/Course_2_Part_4_Lesson_4_Notebook.ipynb\" target=\"_parent\"><img src=\"https://colab.research.google.com/assets/colab-badge.svg\" alt=\"Open In Colab\"/></a>"
      ]
    },
    {
      "cell_type": "markdown",
      "metadata": {
        "id": "rX8mhOLljYeM"
      },
      "source": [
        "##### Copyright 2019 The TensorFlow Authors."
      ]
    },
    {
      "cell_type": "code",
      "metadata": {
        "cellView": "form",
        "id": "BZSlp3DAjdYf"
      },
      "source": [
        "#@title Licensed under the Apache License, Version 2.0 (the \"License\");\n",
        "# you may not use this file except in compliance with the License.\n",
        "# You may obtain a copy of the License at\n",
        "#\n",
        "# https://www.apache.org/licenses/LICENSE-2.0\n",
        "#\n",
        "# Unless required by applicable law or agreed to in writing, software\n",
        "# distributed under the License is distributed on an \"AS IS\" BASIS,\n",
        "# WITHOUT WARRANTIES OR CONDITIONS OF ANY KIND, either express or implied.\n",
        "# See the License for the specific language governing permissions and\n",
        "# limitations under the License."
      ],
      "execution_count": 1,
      "outputs": []
    },
    {
      "cell_type": "code",
      "metadata": {
        "id": "RXZT2UsyIVe_",
        "colab": {
          "base_uri": "https://localhost:8080/"
        },
        "outputId": "a8273858-c006-4f3d-db0e-0f1afbd794a9"
      },
      "source": [
        "!wget --no-check-certificate \\\n",
        "    https://storage.googleapis.com/laurencemoroney-blog.appspot.com/horse-or-human.zip \\\n",
        "    -O /tmp/horse-or-human.zip\n",
        "\n",
        "!wget --no-check-certificate \\\n",
        "    https://storage.googleapis.com/laurencemoroney-blog.appspot.com/validation-horse-or-human.zip \\\n",
        "    -O /tmp/validation-horse-or-human.zip\n",
        "  \n",
        "import os\n",
        "import zipfile\n",
        "\n",
        "local_zip = '/tmp/horse-or-human.zip'\n",
        "zip_ref = zipfile.ZipFile(local_zip, 'r')\n",
        "zip_ref.extractall('/tmp/horse-or-human')\n",
        "local_zip = '/tmp/validation-horse-or-human.zip'\n",
        "zip_ref = zipfile.ZipFile(local_zip, 'r')\n",
        "zip_ref.extractall('/tmp/validation-horse-or-human')\n",
        "zip_ref.close()\n",
        "# Directory with our training horse pictures\n",
        "train_horse_dir = os.path.join('/tmp/horse-or-human/horses')\n",
        "\n",
        "# Directory with our training human pictures\n",
        "train_human_dir = os.path.join('/tmp/horse-or-human/humans')\n",
        "\n",
        "# Directory with our training horse pictures\n",
        "validation_horse_dir = os.path.join('/tmp/validation-horse-or-human/horses')\n",
        "\n",
        "# Directory with our training human pictures\n",
        "validation_human_dir = os.path.join('/tmp/validation-horse-or-human/humans')"
      ],
      "execution_count": 2,
      "outputs": [
        {
          "output_type": "stream",
          "text": [
            "--2021-04-22 14:36:04--  https://storage.googleapis.com/laurencemoroney-blog.appspot.com/horse-or-human.zip\n",
            "Resolving storage.googleapis.com (storage.googleapis.com)... 64.233.187.128, 64.233.188.128, 64.233.189.128, ...\n",
            "Connecting to storage.googleapis.com (storage.googleapis.com)|64.233.187.128|:443... connected.\n",
            "HTTP request sent, awaiting response... 200 OK\n",
            "Length: 149574867 (143M) [application/zip]\n",
            "Saving to: ‘/tmp/horse-or-human.zip’\n",
            "\n",
            "/tmp/horse-or-human 100%[===================>] 142.65M   114MB/s    in 1.3s    \n",
            "\n",
            "2021-04-22 14:36:06 (114 MB/s) - ‘/tmp/horse-or-human.zip’ saved [149574867/149574867]\n",
            "\n",
            "--2021-04-22 14:36:06--  https://storage.googleapis.com/laurencemoroney-blog.appspot.com/validation-horse-or-human.zip\n",
            "Resolving storage.googleapis.com (storage.googleapis.com)... 64.233.189.128, 108.177.97.128, 108.177.125.128, ...\n",
            "Connecting to storage.googleapis.com (storage.googleapis.com)|64.233.189.128|:443... connected.\n",
            "HTTP request sent, awaiting response... 200 OK\n",
            "Length: 11480187 (11M) [application/zip]\n",
            "Saving to: ‘/tmp/validation-horse-or-human.zip’\n",
            "\n",
            "/tmp/validation-hor 100%[===================>]  10.95M  22.6MB/s    in 0.5s    \n",
            "\n",
            "2021-04-22 14:36:07 (22.6 MB/s) - ‘/tmp/validation-horse-or-human.zip’ saved [11480187/11480187]\n",
            "\n"
          ],
          "name": "stdout"
        }
      ]
    },
    {
      "cell_type": "markdown",
      "metadata": {
        "id": "5oqBkNBJmtUv"
      },
      "source": [
        "## Building a Small Model from Scratch\n",
        "\n",
        "But before we continue, let's start defining the model:\n",
        "\n",
        "Step 1 will be to import tensorflow."
      ]
    },
    {
      "cell_type": "code",
      "metadata": {
        "id": "qvfZg3LQbD-5"
      },
      "source": [
        "import tensorflow as tf"
      ],
      "execution_count": 3,
      "outputs": []
    },
    {
      "cell_type": "markdown",
      "metadata": {
        "id": "BnhYCP4tdqjC"
      },
      "source": [
        "We then add convolutional layers as in the previous example, and flatten the final result to feed into the densely connected layers."
      ]
    },
    {
      "cell_type": "markdown",
      "metadata": {
        "id": "gokG5HKpdtzm"
      },
      "source": [
        "Finally we add the densely connected layers. \n",
        "\n",
        "Note that because we are facing a two-class classification problem, i.e. a *binary classification problem*, we will end our network with a [*sigmoid* activation](https://wikipedia.org/wiki/Sigmoid_function), so that the output of our network will be a single scalar between 0 and 1, encoding the probability that the current image is class 1 (as opposed to class 0)."
      ]
    },
    {
      "cell_type": "code",
      "metadata": {
        "id": "PixZ2s5QbYQ3"
      },
      "source": [
        "model = tf.keras.models.Sequential([\n",
        "    # Note the input shape is the desired size of the image 300x300 with 3 bytes color\n",
        "    # This is the first convolution\n",
        "    tf.keras.layers.Conv2D(16, (3,3), activation='relu', input_shape=(300, 300, 3)),\n",
        "    tf.keras.layers.MaxPooling2D(2, 2),\n",
        "    # The second convolution\n",
        "    tf.keras.layers.Conv2D(32, (3,3), activation='relu'),\n",
        "    tf.keras.layers.MaxPooling2D(2,2),\n",
        "    # The third convolution\n",
        "    tf.keras.layers.Conv2D(64, (3,3), activation='relu'),\n",
        "    tf.keras.layers.MaxPooling2D(2,2),\n",
        "    # The fourth convolution\n",
        "    tf.keras.layers.Conv2D(64, (3,3), activation='relu'),\n",
        "    tf.keras.layers.MaxPooling2D(2,2),\n",
        "    # The fifth convolution\n",
        "    tf.keras.layers.Conv2D(64, (3,3), activation='relu'),\n",
        "    tf.keras.layers.MaxPooling2D(2,2),\n",
        "    # Flatten the results to feed into a DNN\n",
        "    tf.keras.layers.Flatten(),\n",
        "    # 512 neuron hidden layer\n",
        "    tf.keras.layers.Dense(512, activation='relu'),\n",
        "    # Only 1 output neuron. It will contain a value from 0-1 where 0 for 1 class ('horses') and 1 for the other ('humans')\n",
        "    tf.keras.layers.Dense(1, activation='sigmoid')\n",
        "])"
      ],
      "execution_count": 4,
      "outputs": []
    },
    {
      "cell_type": "code",
      "metadata": {
        "id": "8DHWhFP_uhq3"
      },
      "source": [
        "from tensorflow.keras.optimizers import RMSprop\n",
        "\n",
        "model.compile(loss='binary_crossentropy',\n",
        "              optimizer=RMSprop(lr=1e-4),\n",
        "              metrics=['accuracy'])"
      ],
      "execution_count": 5,
      "outputs": []
    },
    {
      "cell_type": "code",
      "metadata": {
        "id": "ClebU9NJg99G",
        "colab": {
          "base_uri": "https://localhost:8080/"
        },
        "outputId": "d734aa21-d680-4f0e-bbee-98218b3db405"
      },
      "source": [
        "from tensorflow.keras.preprocessing.image import ImageDataGenerator\n",
        "\n",
        "# All images will be rescaled by 1./255\n",
        "train_datagen = ImageDataGenerator(\n",
        "      rescale=1./255,\n",
        "      rotation_range=40,\n",
        "      width_shift_range=0.2,\n",
        "      height_shift_range=0.2,\n",
        "      shear_range=0.2,\n",
        "      zoom_range=0.2,\n",
        "      horizontal_flip=True,\n",
        "      fill_mode='nearest')\n",
        "\n",
        "validation_datagen = ImageDataGenerator(rescale=1/255)\n",
        "\n",
        "# Flow training images in batches of 128 using train_datagen generator\n",
        "train_generator = train_datagen.flow_from_directory(\n",
        "        '/tmp/horse-or-human/',  # This is the source directory for training images\n",
        "        target_size=(300, 300),  # All images will be resized to 150x150\n",
        "        batch_size=128,\n",
        "        # Since we use binary_crossentropy loss, we need binary labels\n",
        "        class_mode='binary')\n",
        "\n",
        "# Flow training images in batches of 128 using train_datagen generator\n",
        "validation_generator = validation_datagen.flow_from_directory(\n",
        "        '/tmp/validation-horse-or-human/',  # This is the source directory for training images\n",
        "        target_size=(300, 300),  # All images will be resized to 150x150\n",
        "        batch_size=32,\n",
        "        # Since we use binary_crossentropy loss, we need binary labels\n",
        "        class_mode='binary')"
      ],
      "execution_count": 6,
      "outputs": [
        {
          "output_type": "stream",
          "text": [
            "Found 1027 images belonging to 2 classes.\n",
            "Found 256 images belonging to 2 classes.\n"
          ],
          "name": "stdout"
        }
      ]
    },
    {
      "cell_type": "code",
      "metadata": {
        "id": "Fb1_lgobv81m",
        "colab": {
          "base_uri": "https://localhost:8080/"
        },
        "outputId": "46067846-4164-406f-d2b7-07c3e5d94d4d"
      },
      "source": [
        "history = model.fit(\n",
        "      train_generator,\n",
        "      steps_per_epoch=8,  \n",
        "      epochs=100,\n",
        "      verbose=1,\n",
        "      validation_data = validation_generator,\n",
        "      validation_steps=8)"
      ],
      "execution_count": 7,
      "outputs": [
        {
          "output_type": "stream",
          "text": [
            "Epoch 1/100\n",
            "8/8 [==============================] - 55s 3s/step - loss: 0.7032 - accuracy: 0.4963 - val_loss: 0.6586 - val_accuracy: 0.8242\n",
            "Epoch 2/100\n",
            "8/8 [==============================] - 27s 3s/step - loss: 0.6768 - accuracy: 0.6328 - val_loss: 0.6109 - val_accuracy: 0.7539\n",
            "Epoch 3/100\n",
            "8/8 [==============================] - 24s 3s/step - loss: 0.6510 - accuracy: 0.6810 - val_loss: 0.6668 - val_accuracy: 0.5078\n",
            "Epoch 4/100\n",
            "8/8 [==============================] - 24s 3s/step - loss: 0.6625 - accuracy: 0.6297 - val_loss: 0.5086 - val_accuracy: 0.8789\n",
            "Epoch 5/100\n",
            "8/8 [==============================] - 24s 3s/step - loss: 0.6179 - accuracy: 0.6790 - val_loss: 0.5387 - val_accuracy: 0.6836\n",
            "Epoch 6/100\n",
            "8/8 [==============================] - 24s 3s/step - loss: 0.6088 - accuracy: 0.6948 - val_loss: 0.6202 - val_accuracy: 0.5625\n",
            "Epoch 7/100\n",
            "8/8 [==============================] - 24s 3s/step - loss: 0.5415 - accuracy: 0.7547 - val_loss: 0.9856 - val_accuracy: 0.5156\n",
            "Epoch 8/100\n",
            "8/8 [==============================] - 24s 3s/step - loss: 0.5693 - accuracy: 0.6869 - val_loss: 0.6588 - val_accuracy: 0.6016\n",
            "Epoch 9/100\n",
            "8/8 [==============================] - 24s 3s/step - loss: 0.5595 - accuracy: 0.7331 - val_loss: 0.7068 - val_accuracy: 0.6055\n",
            "Epoch 10/100\n",
            "8/8 [==============================] - 24s 3s/step - loss: 0.5022 - accuracy: 0.7508 - val_loss: 0.5898 - val_accuracy: 0.6562\n",
            "Epoch 11/100\n",
            "8/8 [==============================] - 24s 3s/step - loss: 0.5270 - accuracy: 0.7289 - val_loss: 0.7924 - val_accuracy: 0.5742\n",
            "Epoch 12/100\n",
            "8/8 [==============================] - 24s 3s/step - loss: 0.4715 - accuracy: 0.7902 - val_loss: 0.4703 - val_accuracy: 0.7617\n",
            "Epoch 13/100\n",
            "8/8 [==============================] - 24s 3s/step - loss: 0.4648 - accuracy: 0.8025 - val_loss: 1.0382 - val_accuracy: 0.5586\n",
            "Epoch 14/100\n",
            "8/8 [==============================] - 24s 3s/step - loss: 0.4672 - accuracy: 0.7767 - val_loss: 0.3119 - val_accuracy: 0.8594\n",
            "Epoch 15/100\n",
            "8/8 [==============================] - 24s 3s/step - loss: 0.5559 - accuracy: 0.7284 - val_loss: 1.2630 - val_accuracy: 0.5547\n",
            "Epoch 16/100\n",
            "8/8 [==============================] - 24s 3s/step - loss: 0.4662 - accuracy: 0.7848 - val_loss: 0.7843 - val_accuracy: 0.6523\n",
            "Epoch 17/100\n",
            "8/8 [==============================] - 27s 3s/step - loss: 0.4064 - accuracy: 0.8247 - val_loss: 0.7561 - val_accuracy: 0.6719\n",
            "Epoch 18/100\n",
            "8/8 [==============================] - 24s 3s/step - loss: 0.4570 - accuracy: 0.7908 - val_loss: 1.0510 - val_accuracy: 0.5938\n",
            "Epoch 19/100\n",
            "8/8 [==============================] - 24s 3s/step - loss: 0.5266 - accuracy: 0.7554 - val_loss: 1.0339 - val_accuracy: 0.6094\n",
            "Epoch 20/100\n",
            "8/8 [==============================] - 24s 3s/step - loss: 0.4163 - accuracy: 0.8033 - val_loss: 0.9978 - val_accuracy: 0.6133\n",
            "Epoch 21/100\n",
            "8/8 [==============================] - 24s 3s/step - loss: 0.3733 - accuracy: 0.8355 - val_loss: 1.8431 - val_accuracy: 0.5273\n",
            "Epoch 22/100\n",
            "8/8 [==============================] - 24s 3s/step - loss: 0.4227 - accuracy: 0.8042 - val_loss: 0.9454 - val_accuracy: 0.6641\n",
            "Epoch 23/100\n",
            "8/8 [==============================] - 24s 3s/step - loss: 0.3737 - accuracy: 0.8466 - val_loss: 1.4603 - val_accuracy: 0.5625\n",
            "Epoch 24/100\n",
            "8/8 [==============================] - 24s 3s/step - loss: 0.4796 - accuracy: 0.7744 - val_loss: 1.1648 - val_accuracy: 0.6055\n",
            "Epoch 25/100\n",
            "8/8 [==============================] - 24s 3s/step - loss: 0.5689 - accuracy: 0.7491 - val_loss: 1.3629 - val_accuracy: 0.5859\n",
            "Epoch 26/100\n",
            "8/8 [==============================] - 24s 3s/step - loss: 0.3846 - accuracy: 0.8287 - val_loss: 1.3977 - val_accuracy: 0.5938\n",
            "Epoch 27/100\n",
            "8/8 [==============================] - 24s 3s/step - loss: 0.3967 - accuracy: 0.8158 - val_loss: 1.4778 - val_accuracy: 0.5625\n",
            "Epoch 28/100\n",
            "8/8 [==============================] - 24s 3s/step - loss: 0.3587 - accuracy: 0.8479 - val_loss: 0.6900 - val_accuracy: 0.7461\n",
            "Epoch 29/100\n",
            "8/8 [==============================] - 26s 3s/step - loss: 0.4136 - accuracy: 0.8219 - val_loss: 1.7728 - val_accuracy: 0.5547\n",
            "Epoch 30/100\n",
            "8/8 [==============================] - 24s 3s/step - loss: 0.4041 - accuracy: 0.8374 - val_loss: 1.4341 - val_accuracy: 0.5898\n",
            "Epoch 31/100\n",
            "8/8 [==============================] - 27s 3s/step - loss: 0.3173 - accuracy: 0.8770 - val_loss: 1.4029 - val_accuracy: 0.5938\n",
            "Epoch 32/100\n",
            "8/8 [==============================] - 24s 3s/step - loss: 0.2995 - accuracy: 0.8801 - val_loss: 1.1805 - val_accuracy: 0.6406\n",
            "Epoch 33/100\n",
            "8/8 [==============================] - 25s 3s/step - loss: 0.3367 - accuracy: 0.8427 - val_loss: 1.5629 - val_accuracy: 0.5859\n",
            "Epoch 34/100\n",
            "8/8 [==============================] - 25s 4s/step - loss: 0.2741 - accuracy: 0.9005 - val_loss: 0.9097 - val_accuracy: 0.7148\n",
            "Epoch 35/100\n",
            "8/8 [==============================] - 25s 3s/step - loss: 0.5638 - accuracy: 0.7537 - val_loss: 1.5350 - val_accuracy: 0.5859\n",
            "Epoch 36/100\n",
            "8/8 [==============================] - 24s 3s/step - loss: 0.2858 - accuracy: 0.8893 - val_loss: 2.1046 - val_accuracy: 0.5469\n",
            "Epoch 37/100\n",
            "8/8 [==============================] - 24s 3s/step - loss: 0.2813 - accuracy: 0.8795 - val_loss: 1.0367 - val_accuracy: 0.6719\n",
            "Epoch 38/100\n",
            "8/8 [==============================] - 24s 3s/step - loss: 0.3028 - accuracy: 0.8661 - val_loss: 1.4421 - val_accuracy: 0.6172\n",
            "Epoch 39/100\n",
            "8/8 [==============================] - 24s 3s/step - loss: 0.2967 - accuracy: 0.8830 - val_loss: 1.6277 - val_accuracy: 0.6016\n",
            "Epoch 40/100\n",
            "8/8 [==============================] - 24s 3s/step - loss: 0.2872 - accuracy: 0.8787 - val_loss: 1.7472 - val_accuracy: 0.6016\n",
            "Epoch 41/100\n",
            "8/8 [==============================] - 24s 3s/step - loss: 0.4417 - accuracy: 0.8263 - val_loss: 1.6652 - val_accuracy: 0.6172\n",
            "Epoch 42/100\n",
            "8/8 [==============================] - 24s 3s/step - loss: 0.2955 - accuracy: 0.8846 - val_loss: 1.6444 - val_accuracy: 0.6133\n",
            "Epoch 43/100\n",
            "8/8 [==============================] - 24s 3s/step - loss: 0.2654 - accuracy: 0.8947 - val_loss: 3.1082 - val_accuracy: 0.5117\n",
            "Epoch 44/100\n",
            "8/8 [==============================] - 24s 3s/step - loss: 0.4001 - accuracy: 0.8196 - val_loss: 1.4530 - val_accuracy: 0.6328\n",
            "Epoch 45/100\n",
            "8/8 [==============================] - 25s 3s/step - loss: 0.2680 - accuracy: 0.9012 - val_loss: 1.2214 - val_accuracy: 0.6953\n",
            "Epoch 46/100\n",
            "8/8 [==============================] - 25s 3s/step - loss: 0.3239 - accuracy: 0.8450 - val_loss: 1.7045 - val_accuracy: 0.6367\n",
            "Epoch 47/100\n",
            "8/8 [==============================] - 25s 3s/step - loss: 0.3519 - accuracy: 0.8515 - val_loss: 1.4200 - val_accuracy: 0.6289\n",
            "Epoch 48/100\n",
            "8/8 [==============================] - 24s 3s/step - loss: 0.2534 - accuracy: 0.9012 - val_loss: 3.3890 - val_accuracy: 0.5117\n",
            "Epoch 49/100\n",
            "8/8 [==============================] - 25s 3s/step - loss: 0.4660 - accuracy: 0.7927 - val_loss: 2.1951 - val_accuracy: 0.5859\n",
            "Epoch 50/100\n",
            "8/8 [==============================] - 24s 3s/step - loss: 0.2406 - accuracy: 0.9110 - val_loss: 1.8903 - val_accuracy: 0.6211\n",
            "Epoch 51/100\n",
            "8/8 [==============================] - 25s 3s/step - loss: 0.2294 - accuracy: 0.9021 - val_loss: 1.4914 - val_accuracy: 0.6680\n",
            "Epoch 52/100\n",
            "8/8 [==============================] - 25s 3s/step - loss: 0.2820 - accuracy: 0.8913 - val_loss: 1.8859 - val_accuracy: 0.6445\n",
            "Epoch 53/100\n",
            "8/8 [==============================] - 25s 3s/step - loss: 0.3341 - accuracy: 0.8390 - val_loss: 2.2986 - val_accuracy: 0.5859\n",
            "Epoch 54/100\n",
            "8/8 [==============================] - 27s 3s/step - loss: 0.2396 - accuracy: 0.9050 - val_loss: 1.7856 - val_accuracy: 0.6406\n",
            "Epoch 55/100\n",
            "8/8 [==============================] - 25s 3s/step - loss: 0.2350 - accuracy: 0.9102 - val_loss: 1.8756 - val_accuracy: 0.6406\n",
            "Epoch 56/100\n",
            "8/8 [==============================] - 25s 3s/step - loss: 0.2497 - accuracy: 0.8864 - val_loss: 1.7540 - val_accuracy: 0.6250\n",
            "Epoch 57/100\n",
            "8/8 [==============================] - 25s 3s/step - loss: 0.2127 - accuracy: 0.9242 - val_loss: 1.5086 - val_accuracy: 0.6719\n",
            "Epoch 58/100\n",
            "8/8 [==============================] - 27s 3s/step - loss: 0.2272 - accuracy: 0.9073 - val_loss: 2.1590 - val_accuracy: 0.5938\n",
            "Epoch 59/100\n",
            "8/8 [==============================] - 25s 3s/step - loss: 0.2174 - accuracy: 0.9056 - val_loss: 0.6322 - val_accuracy: 0.7852\n",
            "Epoch 60/100\n",
            "8/8 [==============================] - 25s 3s/step - loss: 0.2639 - accuracy: 0.8885 - val_loss: 2.4426 - val_accuracy: 0.5820\n",
            "Epoch 61/100\n",
            "8/8 [==============================] - 25s 3s/step - loss: 0.1961 - accuracy: 0.9227 - val_loss: 1.5506 - val_accuracy: 0.6562\n",
            "Epoch 62/100\n",
            "8/8 [==============================] - 25s 3s/step - loss: 0.2304 - accuracy: 0.9054 - val_loss: 4.2960 - val_accuracy: 0.5117\n",
            "Epoch 63/100\n",
            "8/8 [==============================] - 25s 3s/step - loss: 0.2969 - accuracy: 0.8492 - val_loss: 1.8125 - val_accuracy: 0.6406\n",
            "Epoch 64/100\n",
            "8/8 [==============================] - 25s 4s/step - loss: 0.2361 - accuracy: 0.9122 - val_loss: 2.4922 - val_accuracy: 0.5781\n",
            "Epoch 65/100\n",
            "8/8 [==============================] - 24s 3s/step - loss: 0.1520 - accuracy: 0.9411 - val_loss: 2.4677 - val_accuracy: 0.6289\n",
            "Epoch 66/100\n",
            "8/8 [==============================] - 25s 3s/step - loss: 0.2161 - accuracy: 0.9073 - val_loss: 2.7375 - val_accuracy: 0.5664\n",
            "Epoch 67/100\n",
            "8/8 [==============================] - 25s 3s/step - loss: 0.1972 - accuracy: 0.9272 - val_loss: 1.4584 - val_accuracy: 0.6641\n",
            "Epoch 68/100\n",
            "8/8 [==============================] - 24s 3s/step - loss: 0.1756 - accuracy: 0.9344 - val_loss: 1.8943 - val_accuracy: 0.6523\n",
            "Epoch 69/100\n",
            "8/8 [==============================] - 24s 3s/step - loss: 0.1704 - accuracy: 0.9298 - val_loss: 0.9462 - val_accuracy: 0.7734\n",
            "Epoch 70/100\n",
            "8/8 [==============================] - 25s 3s/step - loss: 0.2664 - accuracy: 0.8877 - val_loss: 1.9084 - val_accuracy: 0.6602\n",
            "Epoch 71/100\n",
            "8/8 [==============================] - 25s 3s/step - loss: 0.1909 - accuracy: 0.9258 - val_loss: 1.6054 - val_accuracy: 0.7031\n",
            "Epoch 72/100\n",
            "8/8 [==============================] - 25s 3s/step - loss: 0.1701 - accuracy: 0.9472 - val_loss: 0.8863 - val_accuracy: 0.7734\n",
            "Epoch 73/100\n",
            "8/8 [==============================] - 24s 3s/step - loss: 0.2166 - accuracy: 0.9163 - val_loss: 0.8455 - val_accuracy: 0.7930\n",
            "Epoch 74/100\n",
            "8/8 [==============================] - 24s 3s/step - loss: 0.3041 - accuracy: 0.8717 - val_loss: 1.8243 - val_accuracy: 0.6680\n",
            "Epoch 75/100\n",
            "8/8 [==============================] - 24s 3s/step - loss: 0.1731 - accuracy: 0.9239 - val_loss: 5.3268 - val_accuracy: 0.5078\n",
            "Epoch 76/100\n",
            "8/8 [==============================] - 24s 3s/step - loss: 0.3891 - accuracy: 0.8412 - val_loss: 1.8467 - val_accuracy: 0.6523\n",
            "Epoch 77/100\n",
            "8/8 [==============================] - 24s 3s/step - loss: 0.1847 - accuracy: 0.9176 - val_loss: 1.6842 - val_accuracy: 0.6836\n",
            "Epoch 78/100\n",
            "8/8 [==============================] - 24s 3s/step - loss: 0.2794 - accuracy: 0.8582 - val_loss: 1.8231 - val_accuracy: 0.6641\n",
            "Epoch 79/100\n",
            "8/8 [==============================] - 26s 3s/step - loss: 0.1792 - accuracy: 0.9294 - val_loss: 1.8172 - val_accuracy: 0.6758\n",
            "Epoch 80/100\n",
            "8/8 [==============================] - 24s 3s/step - loss: 0.2170 - accuracy: 0.9127 - val_loss: 1.6838 - val_accuracy: 0.6836\n",
            "Epoch 81/100\n",
            "8/8 [==============================] - 24s 3s/step - loss: 0.1618 - accuracy: 0.9267 - val_loss: 2.4415 - val_accuracy: 0.6445\n",
            "Epoch 82/100\n",
            "8/8 [==============================] - 24s 3s/step - loss: 0.1571 - accuracy: 0.9367 - val_loss: 1.2529 - val_accuracy: 0.7188\n",
            "Epoch 83/100\n",
            "8/8 [==============================] - 24s 3s/step - loss: 0.1383 - accuracy: 0.9503 - val_loss: 2.7352 - val_accuracy: 0.6328\n",
            "Epoch 84/100\n",
            "8/8 [==============================] - 24s 3s/step - loss: 0.3398 - accuracy: 0.8456 - val_loss: 2.0241 - val_accuracy: 0.6758\n",
            "Epoch 85/100\n",
            "8/8 [==============================] - 24s 3s/step - loss: 0.1383 - accuracy: 0.9398 - val_loss: 1.8950 - val_accuracy: 0.6875\n",
            "Epoch 86/100\n",
            "8/8 [==============================] - 24s 3s/step - loss: 0.2039 - accuracy: 0.9059 - val_loss: 2.2351 - val_accuracy: 0.6641\n",
            "Epoch 87/100\n",
            "8/8 [==============================] - 26s 3s/step - loss: 0.1779 - accuracy: 0.9323 - val_loss: 1.6153 - val_accuracy: 0.7109\n",
            "Epoch 88/100\n",
            "8/8 [==============================] - 24s 3s/step - loss: 0.1340 - accuracy: 0.9496 - val_loss: 4.3507 - val_accuracy: 0.5234\n",
            "Epoch 89/100\n",
            "8/8 [==============================] - 26s 3s/step - loss: 0.2139 - accuracy: 0.9127 - val_loss: 2.3858 - val_accuracy: 0.6562\n",
            "Epoch 90/100\n",
            "8/8 [==============================] - 26s 3s/step - loss: 0.1375 - accuracy: 0.9509 - val_loss: 2.4044 - val_accuracy: 0.6445\n",
            "Epoch 91/100\n",
            "8/8 [==============================] - 23s 3s/step - loss: 0.3189 - accuracy: 0.8757 - val_loss: 1.9246 - val_accuracy: 0.6797\n",
            "Epoch 92/100\n",
            "8/8 [==============================] - 23s 3s/step - loss: 0.1498 - accuracy: 0.9428 - val_loss: 1.9064 - val_accuracy: 0.6445\n",
            "Epoch 93/100\n",
            "8/8 [==============================] - 26s 3s/step - loss: 0.1330 - accuracy: 0.9498 - val_loss: 2.4834 - val_accuracy: 0.6445\n",
            "Epoch 94/100\n",
            "8/8 [==============================] - 24s 3s/step - loss: 0.1601 - accuracy: 0.9294 - val_loss: 1.9944 - val_accuracy: 0.6719\n",
            "Epoch 95/100\n",
            "8/8 [==============================] - 24s 3s/step - loss: 0.1488 - accuracy: 0.9410 - val_loss: 1.5137 - val_accuracy: 0.6719\n",
            "Epoch 96/100\n",
            "8/8 [==============================] - 24s 3s/step - loss: 0.1550 - accuracy: 0.9431 - val_loss: 1.7525 - val_accuracy: 0.6836\n",
            "Epoch 97/100\n",
            "8/8 [==============================] - 24s 3s/step - loss: 0.1578 - accuracy: 0.9511 - val_loss: 2.3222 - val_accuracy: 0.6406\n",
            "Epoch 98/100\n",
            "8/8 [==============================] - 23s 3s/step - loss: 0.0970 - accuracy: 0.9574 - val_loss: 2.1287 - val_accuracy: 0.6680\n",
            "Epoch 99/100\n",
            "8/8 [==============================] - 23s 3s/step - loss: 0.1488 - accuracy: 0.9451 - val_loss: 2.1867 - val_accuracy: 0.6562\n",
            "Epoch 100/100\n",
            "8/8 [==============================] - 26s 3s/step - loss: 0.1204 - accuracy: 0.9603 - val_loss: 2.2157 - val_accuracy: 0.6641\n"
          ],
          "name": "stdout"
        }
      ]
    },
    {
      "cell_type": "code",
      "metadata": {
        "id": "7zNPRWOVJdOH",
        "colab": {
          "base_uri": "https://localhost:8080/",
          "height": 545
        },
        "outputId": "e14d26b0-50d9-40a5-bfb7-3086acea9cea"
      },
      "source": [
        "import matplotlib.pyplot as plt\n",
        "acc = history.history['accuracy']\n",
        "val_acc = history.history['val_accuracy']\n",
        "loss = history.history['loss']\n",
        "val_loss = history.history['val_loss']\n",
        "\n",
        "epochs = range(len(acc))\n",
        "\n",
        "plt.plot(epochs, acc, 'r', label='Training accuracy')\n",
        "plt.plot(epochs, val_acc, 'b', label='Validation accuracy')\n",
        "plt.title('Training and validation accuracy')\n",
        "\n",
        "plt.figure()\n",
        "\n",
        "plt.plot(epochs, loss, 'r', label='Training Loss')\n",
        "plt.plot(epochs, val_loss, 'b', label='Validation Loss')\n",
        "plt.title('Training and validation loss')\n",
        "plt.legend()\n",
        "\n",
        "plt.show()"
      ],
      "execution_count": 8,
      "outputs": [
        {
          "output_type": "display_data",
          "data": {
            "image/png": "[encoded data removed]",
            "text/plain": [
              "<Figure size 432x288 with 1 Axes>"
            ]
          },
          "metadata": {
            "tags": [],
            "needs_background": "light"
          }
        },
        {
          "output_type": "display_data",
          "data": {
            "image/png": "[encoded data removed]",
            "text/plain": [
              "<Figure size 432x288 with 1 Axes>"
            ]
          },
          "metadata": {
            "tags": [],
            "needs_background": "light"
          }
        }
      ]
    }
  ]
}