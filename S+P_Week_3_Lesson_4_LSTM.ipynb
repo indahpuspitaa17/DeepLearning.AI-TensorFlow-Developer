{
  "nbformat": 4,
  "nbformat_minor": 0,
  "metadata": {
    "colab": {
      "name": "S+P Week 3 Lesson 4 - LSTM.ipynb",
      "provenance": [],
      "collapsed_sections": [],
      "toc_visible": true,
      "include_colab_link": true
    },
    "kernelspec": {
      "display_name": "Python 3",
      "name": "python3"
    }
  },
  "cells": [
    {
      "cell_type": "markdown",
      "metadata": {
        "id": "view-in-github",
        "colab_type": "text"
      },
      "source": [
        "<a href=\"https://colab.research.google.com/github/indahpuspitaa17/DeepLearning.AI-TensorFlow-Developer/blob/main/S%2BP_Week_3_Lesson_4_LSTM.ipynb\" target=\"_parent\"><img src=\"https://colab.research.google.com/assets/colab-badge.svg\" alt=\"Open In Colab\"/></a>"
      ]
    },
    {
      "cell_type": "code",
      "metadata": {
        "id": "zX4Kg8DUTKWO"
      },
      "source": [
        "#@title Licensed under the Apache License, Version 2.0 (the \"License\");\n",
        "# you may not use this file except in compliance with the License.\n",
        "# You may obtain a copy of the License at\n",
        "#\n",
        "# https://www.apache.org/licenses/LICENSE-2.0\n",
        "#\n",
        "# Unless required by applicable law or agreed to in writing, software\n",
        "# distributed under the License is distributed on an \"AS IS\" BASIS,\n",
        "# WITHOUT WARRANTIES OR CONDITIONS OF ANY KIND, either express or implied.\n",
        "# See the License for the specific language governing permissions and\n",
        "# limitations under the License."
      ],
      "execution_count": null,
      "outputs": []
    },
    {
      "cell_type": "code",
      "metadata": {
        "id": "D1J15Vh_1Jih",
        "colab": {
          "base_uri": "https://localhost:8080/"
        },
        "outputId": "4ae5b88a-52a7-4d98-840d-4fdc52f45620"
      },
      "source": [
        "!pip install tf-nightly-2.0-preview\n"
      ],
      "execution_count": null,
      "outputs": [
        {
          "output_type": "stream",
          "text": [
            "\u001b[31mERROR: Could not find a version that satisfies the requirement tf-nightly-2.0-preview (from versions: none)\u001b[0m\n",
            "\u001b[31mERROR: No matching distribution found for tf-nightly-2.0-preview\u001b[0m\n"
          ],
          "name": "stdout"
        }
      ]
    },
    {
      "cell_type": "code",
      "metadata": {
        "colab": {
          "base_uri": "https://localhost:8080/"
        },
        "id": "BOjujz601HcS",
        "outputId": "b6a2fe9d-6875-48da-886a-cae96a3f3d72"
      },
      "source": [
        "import tensorflow as tf\n",
        "import numpy as np\n",
        "import matplotlib.pyplot as plt\n",
        "print(tf.__version__)"
      ],
      "execution_count": null,
      "outputs": [
        {
          "output_type": "stream",
          "text": [
            "2.4.1\n"
          ],
          "name": "stdout"
        }
      ]
    },
    {
      "cell_type": "code",
      "metadata": {
        "id": "Zswl7jRtGzkk"
      },
      "source": [
        "def plot_series(time, series, format=\"-\", start=0, end=None):\n",
        "    plt.plot(time[start:end], series[start:end], format)\n",
        "    plt.xlabel(\"Time\")\n",
        "    plt.ylabel(\"Value\")\n",
        "    plt.grid(True)\n",
        "\n",
        "def trend(time, slope=0):\n",
        "    return slope * time\n",
        "\n",
        "def seasonal_pattern(season_time):\n",
        "    \"\"\"Just an arbitrary pattern, you can change it if you wish\"\"\"\n",
        "    return np.where(season_time < 0.4,\n",
        "                    np.cos(season_time * 2 * np.pi),\n",
        "                    1 / np.exp(3 * season_time))\n",
        "\n",
        "def seasonality(time, period, amplitude=1, phase=0):\n",
        "    \"\"\"Repeats the same pattern at each period\"\"\"\n",
        "    season_time = ((time + phase) % period) / period\n",
        "    return amplitude * seasonal_pattern(season_time)\n",
        "\n",
        "def noise(time, noise_level=1, seed=None):\n",
        "    rnd = np.random.RandomState(seed)\n",
        "    return rnd.randn(len(time)) * noise_level\n",
        "\n",
        "time = np.arange(4 * 365 + 1, dtype=\"float32\")\n",
        "baseline = 10\n",
        "series = trend(time, 0.1)  \n",
        "baseline = 10\n",
        "amplitude = 40\n",
        "slope = 0.05\n",
        "noise_level = 5\n",
        "\n",
        "# Create the series\n",
        "series = baseline + trend(time, slope) + seasonality(time, period=365, amplitude=amplitude)\n",
        "# Update with noise\n",
        "series += noise(time, noise_level, seed=42)\n",
        "\n",
        "split_time = 1000\n",
        "time_train = time[:split_time]\n",
        "x_train = series[:split_time]\n",
        "time_valid = time[split_time:]\n",
        "x_valid = series[split_time:]\n",
        "\n",
        "window_size = 20\n",
        "batch_size = 32\n",
        "shuffle_buffer_size = 1000"
      ],
      "execution_count": null,
      "outputs": []
    },
    {
      "cell_type": "code",
      "metadata": {
        "id": "4sTTIOCbyShY"
      },
      "source": [
        "def windowed_dataset(series, window_size, batch_size, shuffle_buffer):\n",
        "  dataset = tf.data.Dataset.from_tensor_slices(series)\n",
        "  dataset = dataset.window(window_size + 1, shift=1, drop_remainder=True)\n",
        "  dataset = dataset.flat_map(lambda window: window.batch(window_size + 1))\n",
        "  dataset = dataset.shuffle(shuffle_buffer).map(lambda window: (window[:-1], window[-1]))\n",
        "  dataset = dataset.batch(batch_size).prefetch(1)\n",
        "  return dataset"
      ],
      "execution_count": null,
      "outputs": []
    },
    {
      "cell_type": "code",
      "metadata": {
        "colab": {
          "base_uri": "https://localhost:8080/"
        },
        "id": "A1Hl39rklkLm",
        "outputId": "dd631102-612f-4079-b696-eaf5697779f9"
      },
      "source": [
        "tf.keras.backend.clear_session()\n",
        "tf.random.set_seed(51)\n",
        "np.random.seed(51)\n",
        "\n",
        "tf.keras.backend.clear_session()\n",
        "dataset = windowed_dataset(x_train, window_size, batch_size, shuffle_buffer_size)\n",
        "\n",
        "model = tf.keras.models.Sequential([\n",
        "  tf.keras.layers.Lambda(lambda x: tf.expand_dims(x, axis=-1),\n",
        "                      input_shape=[None]),\n",
        "    tf.keras.layers.Bidirectional(tf.keras.layers.LSTM(32, return_sequences=True)),\n",
        "  tf.keras.layers.Bidirectional(tf.keras.layers.LSTM(32)),\n",
        "  tf.keras.layers.Dense(1),\n",
        "  tf.keras.layers.Lambda(lambda x: x * 100.0)\n",
        "])\n",
        "\n",
        "lr_schedule = tf.keras.callbacks.LearningRateScheduler(\n",
        "    lambda epoch: 1e-8 * 10**(epoch / 20))\n",
        "optimizer = tf.keras.optimizers.SGD(lr=1e-8, momentum=0.9)\n",
        "model.compile(loss=tf.keras.losses.Huber(),\n",
        "              optimizer=optimizer,\n",
        "              metrics=[\"mae\"])\n",
        "history = model.fit(dataset, epochs=100, callbacks=[lr_schedule])"
      ],
      "execution_count": null,
      "outputs": [
        {
          "output_type": "stream",
          "text": [
            "Epoch 1/100\n",
            "31/31 [==============================] - 8s 29ms/step - loss: 21.9679 - mae: 22.4630\n",
            "Epoch 2/100\n",
            "31/31 [==============================] - 1s 27ms/step - loss: 21.0787 - mae: 21.5699\n",
            "Epoch 3/100\n",
            "31/31 [==============================] - 1s 26ms/step - loss: 19.9720 - mae: 20.4666\n",
            "Epoch 4/100\n",
            "31/31 [==============================] - 1s 26ms/step - loss: 20.5891 - mae: 21.0813\n",
            "Epoch 5/100\n",
            "31/31 [==============================] - 1s 26ms/step - loss: 20.2777 - mae: 20.7735\n",
            "Epoch 6/100\n",
            "31/31 [==============================] - 1s 26ms/step - loss: 19.6437 - mae: 20.1366\n",
            "Epoch 7/100\n",
            "31/31 [==============================] - 1s 26ms/step - loss: 18.2940 - mae: 18.7848\n",
            "Epoch 8/100\n",
            "31/31 [==============================] - 1s 26ms/step - loss: 17.2657 - mae: 17.7576\n",
            "Epoch 9/100\n",
            "31/31 [==============================] - 1s 27ms/step - loss: 17.4906 - mae: 17.9840\n",
            "Epoch 10/100\n",
            "31/31 [==============================] - 1s 27ms/step - loss: 16.8689 - mae: 17.3590\n",
            "Epoch 11/100\n",
            "31/31 [==============================] - 1s 27ms/step - loss: 16.4565 - mae: 16.9496\n",
            "Epoch 12/100\n",
            "31/31 [==============================] - 1s 26ms/step - loss: 16.1107 - mae: 16.6051\n",
            "Epoch 13/100\n",
            "31/31 [==============================] - 1s 26ms/step - loss: 15.9437 - mae: 16.4400\n",
            "Epoch 14/100\n",
            "31/31 [==============================] - 1s 26ms/step - loss: 16.2057 - mae: 16.7015\n",
            "Epoch 15/100\n",
            "31/31 [==============================] - 1s 27ms/step - loss: 16.2997 - mae: 16.7944\n",
            "Epoch 16/100\n",
            "31/31 [==============================] - 1s 26ms/step - loss: 15.2008 - mae: 15.6951\n",
            "Epoch 17/100\n",
            "31/31 [==============================] - 1s 26ms/step - loss: 14.6605 - mae: 15.1572\n",
            "Epoch 18/100\n",
            "31/31 [==============================] - 1s 26ms/step - loss: 14.7761 - mae: 15.2720\n",
            "Epoch 19/100\n",
            "31/31 [==============================] - 1s 26ms/step - loss: 14.4512 - mae: 14.9444\n",
            "Epoch 20/100\n",
            "31/31 [==============================] - 1s 27ms/step - loss: 14.5195 - mae: 15.0117\n",
            "Epoch 21/100\n",
            "31/31 [==============================] - 1s 25ms/step - loss: 13.5757 - mae: 14.0695\n",
            "Epoch 22/100\n",
            "31/31 [==============================] - 1s 26ms/step - loss: 13.5288 - mae: 14.0247\n",
            "Epoch 23/100\n",
            "31/31 [==============================] - 1s 26ms/step - loss: 12.7991 - mae: 13.2927\n",
            "Epoch 24/100\n",
            "31/31 [==============================] - 1s 26ms/step - loss: 12.9368 - mae: 13.4304\n",
            "Epoch 25/100\n",
            "31/31 [==============================] - 1s 26ms/step - loss: 13.4398 - mae: 13.9332\n",
            "Epoch 26/100\n",
            "31/31 [==============================] - 1s 26ms/step - loss: 12.5766 - mae: 13.0663\n",
            "Epoch 27/100\n",
            "31/31 [==============================] - 1s 25ms/step - loss: 12.4469 - mae: 12.9387\n",
            "Epoch 28/100\n",
            "31/31 [==============================] - 1s 25ms/step - loss: 12.0455 - mae: 12.5353\n",
            "Epoch 29/100\n",
            "31/31 [==============================] - 1s 26ms/step - loss: 11.7434 - mae: 12.2307\n",
            "Epoch 30/100\n",
            "31/31 [==============================] - 1s 25ms/step - loss: 12.1353 - mae: 12.6266\n",
            "Epoch 31/100\n",
            "31/31 [==============================] - 1s 26ms/step - loss: 10.5933 - mae: 11.0832\n",
            "Epoch 32/100\n",
            "31/31 [==============================] - 1s 27ms/step - loss: 11.3526 - mae: 11.8427\n",
            "Epoch 33/100\n",
            "31/31 [==============================] - 1s 25ms/step - loss: 10.6144 - mae: 11.1091\n",
            "Epoch 34/100\n",
            "31/31 [==============================] - 1s 26ms/step - loss: 10.3742 - mae: 10.8633\n",
            "Epoch 35/100\n",
            "31/31 [==============================] - 1s 25ms/step - loss: 10.0720 - mae: 10.5541\n",
            "Epoch 36/100\n",
            "31/31 [==============================] - 1s 26ms/step - loss: 9.6692 - mae: 10.1608\n",
            "Epoch 37/100\n",
            "31/31 [==============================] - 1s 26ms/step - loss: 9.6828 - mae: 10.1720\n",
            "Epoch 38/100\n",
            "31/31 [==============================] - 1s 27ms/step - loss: 9.5939 - mae: 10.0829\n",
            "Epoch 39/100\n",
            "31/31 [==============================] - 1s 25ms/step - loss: 9.1433 - mae: 9.6265\n",
            "Epoch 40/100\n",
            "31/31 [==============================] - 1s 26ms/step - loss: 8.2328 - mae: 8.7213\n",
            "Epoch 41/100\n",
            "31/31 [==============================] - 1s 26ms/step - loss: 8.5004 - mae: 8.9857\n",
            "Epoch 42/100\n",
            "31/31 [==============================] - 1s 26ms/step - loss: 7.7835 - mae: 8.2651\n",
            "Epoch 43/100\n",
            "31/31 [==============================] - 1s 25ms/step - loss: 7.4934 - mae: 7.9763\n",
            "Epoch 44/100\n",
            "31/31 [==============================] - 1s 26ms/step - loss: 7.2139 - mae: 7.6977\n",
            "Epoch 45/100\n",
            "31/31 [==============================] - 1s 25ms/step - loss: 7.2607 - mae: 7.7492\n",
            "Epoch 46/100\n",
            "31/31 [==============================] - 1s 26ms/step - loss: 6.7730 - mae: 7.2547\n",
            "Epoch 47/100\n",
            "31/31 [==============================] - 1s 26ms/step - loss: 6.8849 - mae: 7.3723\n",
            "Epoch 48/100\n",
            "31/31 [==============================] - 1s 27ms/step - loss: 6.4202 - mae: 6.8985\n",
            "Epoch 49/100\n",
            "31/31 [==============================] - 1s 25ms/step - loss: 6.2204 - mae: 6.6972\n",
            "Epoch 50/100\n",
            "31/31 [==============================] - 1s 25ms/step - loss: 6.1395 - mae: 6.6177\n",
            "Epoch 51/100\n",
            "31/31 [==============================] - 1s 26ms/step - loss: 5.9802 - mae: 6.4566\n",
            "Epoch 52/100\n",
            "31/31 [==============================] - 1s 25ms/step - loss: 5.5420 - mae: 6.0235\n",
            "Epoch 53/100\n",
            "31/31 [==============================] - 1s 25ms/step - loss: 5.9445 - mae: 6.4288\n",
            "Epoch 54/100\n",
            "31/31 [==============================] - 1s 26ms/step - loss: 5.4762 - mae: 5.9533\n",
            "Epoch 55/100\n",
            "31/31 [==============================] - 1s 27ms/step - loss: 5.5387 - mae: 6.0098\n",
            "Epoch 56/100\n",
            "31/31 [==============================] - 1s 26ms/step - loss: 5.0777 - mae: 5.5511\n",
            "Epoch 57/100\n",
            "31/31 [==============================] - 1s 26ms/step - loss: 5.2487 - mae: 5.7285\n",
            "Epoch 58/100\n",
            "31/31 [==============================] - 1s 26ms/step - loss: 5.6203 - mae: 6.1054\n",
            "Epoch 59/100\n",
            "31/31 [==============================] - 1s 26ms/step - loss: 5.2632 - mae: 5.7434\n",
            "Epoch 60/100\n",
            "31/31 [==============================] - 1s 26ms/step - loss: 5.1216 - mae: 5.5905\n",
            "Epoch 61/100\n",
            "31/31 [==============================] - 1s 26ms/step - loss: 5.2779 - mae: 5.7550\n",
            "Epoch 62/100\n",
            "31/31 [==============================] - 1s 25ms/step - loss: 5.3425 - mae: 5.8233\n",
            "Epoch 63/100\n",
            "31/31 [==============================] - 1s 26ms/step - loss: 5.1201 - mae: 5.5968\n",
            "Epoch 64/100\n",
            "31/31 [==============================] - 1s 27ms/step - loss: 5.0238 - mae: 5.4966\n",
            "Epoch 65/100\n",
            "31/31 [==============================] - 1s 26ms/step - loss: 4.8078 - mae: 5.2898\n",
            "Epoch 66/100\n",
            "31/31 [==============================] - 1s 27ms/step - loss: 5.4764 - mae: 5.9609\n",
            "Epoch 67/100\n",
            "31/31 [==============================] - 1s 27ms/step - loss: 6.0091 - mae: 6.4906\n",
            "Epoch 68/100\n",
            "31/31 [==============================] - 1s 27ms/step - loss: 4.9516 - mae: 5.4324\n",
            "Epoch 69/100\n",
            "31/31 [==============================] - 1s 28ms/step - loss: 5.8167 - mae: 6.3011\n",
            "Epoch 70/100\n",
            "31/31 [==============================] - 1s 27ms/step - loss: 5.4645 - mae: 5.9489\n",
            "Epoch 71/100\n",
            "31/31 [==============================] - 1s 27ms/step - loss: 5.3114 - mae: 5.7928\n",
            "Epoch 72/100\n",
            "31/31 [==============================] - 1s 27ms/step - loss: 5.4494 - mae: 5.9264\n",
            "Epoch 73/100\n",
            "31/31 [==============================] - 1s 26ms/step - loss: 6.1336 - mae: 6.6140\n",
            "Epoch 74/100\n",
            "31/31 [==============================] - 1s 27ms/step - loss: 5.7203 - mae: 6.1993\n",
            "Epoch 75/100\n",
            "31/31 [==============================] - 1s 27ms/step - loss: 4.9408 - mae: 5.4204\n",
            "Epoch 76/100\n",
            "31/31 [==============================] - 1s 27ms/step - loss: 5.5451 - mae: 6.0282\n",
            "Epoch 77/100\n",
            "31/31 [==============================] - 1s 27ms/step - loss: 7.1438 - mae: 7.6282\n",
            "Epoch 78/100\n",
            "31/31 [==============================] - 1s 27ms/step - loss: 5.6744 - mae: 6.1588\n",
            "Epoch 79/100\n",
            "31/31 [==============================] - 1s 27ms/step - loss: 5.1942 - mae: 5.6726\n",
            "Epoch 80/100\n",
            "31/31 [==============================] - 1s 27ms/step - loss: 4.7828 - mae: 5.2631\n",
            "Epoch 81/100\n",
            "31/31 [==============================] - 1s 27ms/step - loss: 6.4667 - mae: 6.9492\n",
            "Epoch 82/100\n",
            "31/31 [==============================] - 1s 27ms/step - loss: 5.8926 - mae: 6.3785\n",
            "Epoch 83/100\n",
            "31/31 [==============================] - 1s 29ms/step - loss: 6.7402 - mae: 7.2248\n",
            "Epoch 84/100\n",
            "31/31 [==============================] - 1s 28ms/step - loss: 6.1964 - mae: 6.6825\n",
            "Epoch 85/100\n",
            "31/31 [==============================] - 1s 27ms/step - loss: 7.8645 - mae: 8.3526\n",
            "Epoch 86/100\n",
            "31/31 [==============================] - 1s 27ms/step - loss: 7.3870 - mae: 7.8709\n",
            "Epoch 87/100\n",
            "31/31 [==============================] - 1s 28ms/step - loss: 6.3550 - mae: 6.8450\n",
            "Epoch 88/100\n",
            "31/31 [==============================] - 1s 29ms/step - loss: 9.4090 - mae: 9.8978\n",
            "Epoch 89/100\n",
            "31/31 [==============================] - 1s 29ms/step - loss: 7.6073 - mae: 8.0948\n",
            "Epoch 90/100\n",
            "31/31 [==============================] - 1s 28ms/step - loss: 8.6020 - mae: 9.0924\n",
            "Epoch 91/100\n",
            "31/31 [==============================] - 1s 28ms/step - loss: 10.1672 - mae: 10.6591\n",
            "Epoch 92/100\n",
            "31/31 [==============================] - 1s 27ms/step - loss: 6.5734 - mae: 7.0540\n",
            "Epoch 93/100\n",
            "31/31 [==============================] - 1s 26ms/step - loss: 11.0945 - mae: 11.5857\n",
            "Epoch 94/100\n",
            "31/31 [==============================] - 1s 27ms/step - loss: 9.5562 - mae: 10.0454\n",
            "Epoch 95/100\n",
            "31/31 [==============================] - 1s 28ms/step - loss: 9.2937 - mae: 9.7868\n",
            "Epoch 96/100\n",
            "31/31 [==============================] - 1s 27ms/step - loss: 8.4699 - mae: 8.9561\n",
            "Epoch 97/100\n",
            "31/31 [==============================] - 1s 28ms/step - loss: 11.9757 - mae: 12.4700\n",
            "Epoch 98/100\n",
            "31/31 [==============================] - 1s 28ms/step - loss: 8.5256 - mae: 9.0168\n",
            "Epoch 99/100\n",
            "31/31 [==============================] - 1s 27ms/step - loss: 8.3632 - mae: 8.8468\n",
            "Epoch 100/100\n",
            "31/31 [==============================] - 1s 27ms/step - loss: 11.6255 - mae: 12.1136\n"
          ],
          "name": "stdout"
        }
      ]
    },
    {
      "cell_type": "code",
      "metadata": {
        "colab": {
          "base_uri": "https://localhost:8080/",
          "height": 290
        },
        "id": "AkBsrsXMzoWR",
        "outputId": "8a657c2b-2f2b-4c4d-8d4e-e5cdafbbc4e6"
      },
      "source": [
        "plt.semilogx(history.history[\"lr\"], history.history[\"loss\"])\n",
        "plt.axis([1e-8, 1e-4, 0, 30])"
      ],
      "execution_count": null,
      "outputs": [
        {
          "output_type": "execute_result",
          "data": {
            "text/plain": [
              "(1e-08, 0.0001, 0.0, 30.0)"
            ]
          },
          "metadata": {
            "tags": []
          },
          "execution_count": 6
        },
        {
          "output_type": "display_data",
          "data": {
            "image/png": "[encoded data removed]",
            "text/plain": [
              "<Figure size 432x288 with 1 Axes>"
            ]
          },
          "metadata": {
            "tags": [],
            "needs_background": "light"
          }
        }
      ]
    },
    {
      "cell_type": "code",
      "metadata": {
        "id": "4uh-97bpLZCA"
      },
      "source": [
        "tf.keras.backend.clear_session()\n",
        "tf.random.set_seed(51)\n",
        "np.random.seed(51)\n",
        "\n",
        "tf.keras.backend.clear_session()\n",
        "dataset = windowed_dataset(x_train, window_size, batch_size, shuffle_buffer_size)\n",
        "\n",
        "model = tf.keras.models.Sequential([\n",
        "  tf.keras.layers.Lambda(lambda x: tf.expand_dims(x, axis=-1),\n",
        "                      input_shape=[None]),\n",
        "   tf.keras.layers.Bidirectional(tf.keras.layers.LSTM(32, return_sequences=True)),\n",
        "  tf.keras.layers.Bidirectional(tf.keras.layers.LSTM(32)),\n",
        "  tf.keras.layers.Dense(1),\n",
        "  tf.keras.layers.Lambda(lambda x: x * 100.0)\n",
        "])\n",
        "\n",
        "\n",
        "model.compile(loss=\"mse\", optimizer=tf.keras.optimizers.SGD(lr=1e-5, momentum=0.9),metrics=[\"mae\"])\n",
        "history = model.fit(dataset,epochs=500,verbose=0)"
      ],
      "execution_count": 8,
      "outputs": []
    },
    {
      "cell_type": "code",
      "metadata": {
        "colab": {
          "base_uri": "https://localhost:8080/",
          "height": 393
        },
        "id": "icGDaND7z0ne",
        "outputId": "58b69d1a-82d2-457b-9342-42ceb24b35da"
      },
      "source": [
        "forecast = []\n",
        "results = []\n",
        "for time in range(len(series) - window_size):\n",
        "  forecast.append(model.predict(series[time:time + window_size][np.newaxis]))\n",
        "\n",
        "forecast = forecast[split_time-window_size:]\n",
        "results = np.array(forecast)[:, 0, 0]\n",
        "\n",
        "\n",
        "plt.figure(figsize=(10, 6))\n",
        "\n",
        "plot_series(time_valid, x_valid)\n",
        "plot_series(time_valid, results)"
      ],
      "execution_count": null,
      "outputs": [
        {
          "output_type": "display_data",
          "data": {
            "image/png": "[encoded data removed]",
            "text/plain": [
              "<Figure size 720x432 with 1 Axes>"
            ]
          },
          "metadata": {
            "tags": []
          }
        }
      ]
    },
    {
      "cell_type": "code",
      "metadata": {
        "colab": {
          "base_uri": "https://localhost:8080/",
          "height": 35
        },
        "id": "KfPeqI7rz4LD",
        "outputId": "816335be-fd2a-428f-98d6-05983b84d9b5"
      },
      "source": [
        "tf.keras.metrics.mean_absolute_error(x_valid, results).numpy()"
      ],
      "execution_count": null,
      "outputs": [
        {
          "output_type": "execute_result",
          "data": {
            "text/plain": [
              "8.514286"
            ]
          },
          "metadata": {
            "tags": []
          },
          "execution_count": 12
        }
      ]
    },
    {
      "cell_type": "code",
      "metadata": {
        "id": "JUsdZB_tzDLe",
        "colab": {
          "base_uri": "https://localhost:8080/",
          "height": 607
        },
        "outputId": "163271d1-8845-4c18-d57b-be4cc864f97a"
      },
      "source": [
        "import matplotlib.image  as mpimg\n",
        "import matplotlib.pyplot as plt\n",
        "\n",
        "#-----------------------------------------------------------\n",
        "# Retrieve a list of list results on training and test data\n",
        "# sets for each training epoch\n",
        "#-----------------------------------------------------------\n",
        "mae=history.history['mae']\n",
        "loss=history.history['loss']\n",
        "\n",
        "epochs=range(len(loss)) # Get number of epochs\n",
        "\n",
        "#------------------------------------------------\n",
        "# Plot MAE and Loss\n",
        "#------------------------------------------------\n",
        "plt.plot(epochs, mae, 'r')\n",
        "plt.plot(epochs, loss, 'b')\n",
        "plt.title('MAE and Loss')\n",
        "plt.xlabel(\"Epochs\")\n",
        "plt.ylabel(\"Accuracy\")\n",
        "plt.legend([\"MAE\", \"Loss\"])\n",
        "\n",
        "plt.figure()\n",
        "\n",
        "epochs_zoom = epochs[200:]\n",
        "mae_zoom = mae[200:]\n",
        "loss_zoom = loss[200:]\n",
        "\n",
        "#------------------------------------------------\n",
        "# Plot Zoomed MAE and Loss\n",
        "#------------------------------------------------\n",
        "plt.plot(epochs_zoom, mae_zoom, 'r')\n",
        "plt.plot(epochs_zoom, loss_zoom, 'b')\n",
        "plt.title('MAE and Loss')\n",
        "plt.xlabel(\"Epochs\")\n",
        "plt.ylabel(\"Accuracy\")\n",
        "plt.legend([\"MAE\", \"Loss\"])\n",
        "\n",
        "plt.figure()"
      ],
      "execution_count": 9,
      "outputs": [
        {
          "output_type": "execute_result",
          "data": {
            "text/plain": [
              "<Figure size 432x288 with 0 Axes>"
            ]
          },
          "metadata": {
            "tags": []
          },
          "execution_count": 9
        },
        {
          "output_type": "display_data",
          "data": {
            "image/png": "[encoded data removed]",
            "text/plain": [
              "<Figure size 432x288 with 1 Axes>"
            ]
          },
          "metadata": {
            "tags": [],
            "needs_background": "light"
          }
        },
        {
          "output_type": "display_data",
          "data": {
            "image/png": "[encoded data removed]",
            "text/plain": [
              "<Figure size 432x288 with 1 Axes>"
            ]
          },
          "metadata": {
            "tags": [],
            "needs_background": "light"
          }
        },
        {
          "output_type": "display_data",
          "data": {
            "text/plain": [
              "<Figure size 432x288 with 0 Axes>"
            ]
          },
          "metadata": {
            "tags": []
          }
        }
      ]
    },
    {
      "cell_type": "code",
      "metadata": {
        "id": "3CGaYFxXNEAK",
        "colab": {
          "base_uri": "https://localhost:8080/"
        },
        "outputId": "196997f1-78cb-4845-b1a2-5ae3aefc6636"
      },
      "source": [
        "tf.keras.backend.clear_session()\n",
        "dataset = windowed_dataset(x_train, window_size, batch_size, shuffle_buffer_size)\n",
        "\n",
        "model = tf.keras.models.Sequential([\n",
        "  tf.keras.layers.Lambda(lambda x: tf.expand_dims(x, axis=-1),\n",
        "                      input_shape=[None]),\n",
        "  tf.keras.layers.Bidirectional(tf.keras.layers.LSTM(32, return_sequences=True)),\n",
        "  tf.keras.layers.Bidirectional(tf.keras.layers.LSTM(32)),\n",
        "  tf.keras.layers.Dense(1),\n",
        "  tf.keras.layers.Lambda(lambda x: x * 100.0)\n",
        "])\n",
        "\n",
        "\n",
        "model.compile(loss=\"mse\", optimizer=tf.keras.optimizers.SGD(lr=1e-6, momentum=0.9))\n",
        "model.fit(dataset,epochs=100, verbose=0)"
      ],
      "execution_count": 10,
      "outputs": [
        {
          "output_type": "execute_result",
          "data": {
            "text/plain": [
              "<tensorflow.python.keras.callbacks.History at 0x7f8c75477bd0>"
            ]
          },
          "metadata": {
            "tags": []
          },
          "execution_count": 10
        }
      ]
    },
    {
      "cell_type": "code",
      "metadata": {
        "id": "FJ3R8ysauz9e",
        "colab": {
          "base_uri": "https://localhost:8080/"
        },
        "outputId": "25c2ecb4-1c50-43e4-93e3-57b9e5eb5bb9"
      },
      "source": [
        "tf.keras.backend.clear_session()\n",
        "dataset = windowed_dataset(x_train, window_size, batch_size, shuffle_buffer_size)\n",
        "\n",
        "model = tf.keras.models.Sequential([\n",
        "  tf.keras.layers.Lambda(lambda x: tf.expand_dims(x, axis=-1),\n",
        "                      input_shape=[None]),\n",
        "  tf.keras.layers.Bidirectional(tf.keras.layers.LSTM(32, return_sequences=True)),\n",
        "  tf.keras.layers.Bidirectional(tf.keras.layers.LSTM(32, return_sequences=True)),\n",
        "  tf.keras.layers.Bidirectional(tf.keras.layers.LSTM(32)),\n",
        "  tf.keras.layers.Dense(1),\n",
        "  tf.keras.layers.Lambda(lambda x: x * 100.0)\n",
        "])\n",
        "\n",
        "\n",
        "model.compile(loss=\"mse\", optimizer=tf.keras.optimizers.SGD(lr=1e-6, momentum=0.9))\n",
        "model.fit(dataset,epochs=100)"
      ],
      "execution_count": 11,
      "outputs": [
        {
          "output_type": "stream",
          "text": [
            "Epoch 1/100\n",
            "31/31 [==============================] - 11s 39ms/step - loss: 1307.8962\n",
            "Epoch 2/100\n",
            "31/31 [==============================] - 1s 38ms/step - loss: 176.4447\n",
            "Epoch 3/100\n",
            "31/31 [==============================] - 1s 38ms/step - loss: 97.3890\n",
            "Epoch 4/100\n",
            "31/31 [==============================] - 1s 39ms/step - loss: 89.1422\n",
            "Epoch 5/100\n",
            "31/31 [==============================] - 1s 39ms/step - loss: 79.4352\n",
            "Epoch 6/100\n",
            "31/31 [==============================] - 1s 40ms/step - loss: 81.9361\n",
            "Epoch 7/100\n",
            "31/31 [==============================] - 1s 43ms/step - loss: 71.1977\n",
            "Epoch 8/100\n",
            "31/31 [==============================] - 1s 39ms/step - loss: 80.9701\n",
            "Epoch 9/100\n",
            "31/31 [==============================] - 1s 40ms/step - loss: 72.1486\n",
            "Epoch 10/100\n",
            "31/31 [==============================] - 1s 39ms/step - loss: 62.0152\n",
            "Epoch 11/100\n",
            "31/31 [==============================] - 1s 38ms/step - loss: 66.4223\n",
            "Epoch 12/100\n",
            "31/31 [==============================] - 1s 38ms/step - loss: 56.7716\n",
            "Epoch 13/100\n",
            "31/31 [==============================] - 1s 41ms/step - loss: 65.8524\n",
            "Epoch 14/100\n",
            "31/31 [==============================] - 1s 39ms/step - loss: 55.6885\n",
            "Epoch 15/100\n",
            "31/31 [==============================] - 1s 40ms/step - loss: 51.7451\n",
            "Epoch 16/100\n",
            "31/31 [==============================] - 1s 38ms/step - loss: 61.3161\n",
            "Epoch 17/100\n",
            "31/31 [==============================] - 1s 37ms/step - loss: 60.5640\n",
            "Epoch 18/100\n",
            "31/31 [==============================] - 1s 38ms/step - loss: 68.3099\n",
            "Epoch 19/100\n",
            "31/31 [==============================] - 1s 37ms/step - loss: 59.1468\n",
            "Epoch 20/100\n",
            "31/31 [==============================] - 1s 39ms/step - loss: 51.7663\n",
            "Epoch 21/100\n",
            "31/31 [==============================] - 1s 38ms/step - loss: 57.9662\n",
            "Epoch 22/100\n",
            "31/31 [==============================] - 1s 38ms/step - loss: 47.0318\n",
            "Epoch 23/100\n",
            "31/31 [==============================] - 1s 38ms/step - loss: 47.9675\n",
            "Epoch 24/100\n",
            "31/31 [==============================] - 1s 38ms/step - loss: 57.4802\n",
            "Epoch 25/100\n",
            "31/31 [==============================] - 1s 39ms/step - loss: 47.2998\n",
            "Epoch 26/100\n",
            "31/31 [==============================] - 1s 39ms/step - loss: 57.2269\n",
            "Epoch 27/100\n",
            "31/31 [==============================] - 1s 39ms/step - loss: 47.2807\n",
            "Epoch 28/100\n",
            "31/31 [==============================] - 1s 39ms/step - loss: 61.8052\n",
            "Epoch 29/100\n",
            "31/31 [==============================] - 1s 38ms/step - loss: 53.6745\n",
            "Epoch 30/100\n",
            "31/31 [==============================] - 1s 42ms/step - loss: 51.3073\n",
            "Epoch 31/100\n",
            "31/31 [==============================] - 1s 41ms/step - loss: 49.3268\n",
            "Epoch 32/100\n",
            "31/31 [==============================] - 1s 40ms/step - loss: 65.4227\n",
            "Epoch 33/100\n",
            "31/31 [==============================] - 1s 42ms/step - loss: 46.8952\n",
            "Epoch 34/100\n",
            "31/31 [==============================] - 1s 39ms/step - loss: 49.0284\n",
            "Epoch 35/100\n",
            "31/31 [==============================] - 1s 41ms/step - loss: 49.1433\n",
            "Epoch 36/100\n",
            "31/31 [==============================] - 1s 39ms/step - loss: 49.8325\n",
            "Epoch 37/100\n",
            "31/31 [==============================] - 1s 39ms/step - loss: 51.1616\n",
            "Epoch 38/100\n",
            "31/31 [==============================] - 1s 40ms/step - loss: 44.5338\n",
            "Epoch 39/100\n",
            "31/31 [==============================] - 1s 41ms/step - loss: 49.8415\n",
            "Epoch 40/100\n",
            "31/31 [==============================] - 1s 41ms/step - loss: 47.2750\n",
            "Epoch 41/100\n",
            "31/31 [==============================] - 1s 40ms/step - loss: 43.8079\n",
            "Epoch 42/100\n",
            "31/31 [==============================] - 1s 41ms/step - loss: 44.4349\n",
            "Epoch 43/100\n",
            "31/31 [==============================] - 1s 42ms/step - loss: 49.2025\n",
            "Epoch 44/100\n",
            "31/31 [==============================] - 1s 41ms/step - loss: 49.1566\n",
            "Epoch 45/100\n",
            "31/31 [==============================] - 1s 40ms/step - loss: 47.8761\n",
            "Epoch 46/100\n",
            "31/31 [==============================] - 1s 41ms/step - loss: 57.0199\n",
            "Epoch 47/100\n",
            "31/31 [==============================] - 1s 41ms/step - loss: 50.2484\n",
            "Epoch 48/100\n",
            "31/31 [==============================] - 1s 41ms/step - loss: 44.5639\n",
            "Epoch 49/100\n",
            "31/31 [==============================] - 1s 41ms/step - loss: 43.7269\n",
            "Epoch 50/100\n",
            "31/31 [==============================] - 1s 41ms/step - loss: 44.5412\n",
            "Epoch 51/100\n",
            "31/31 [==============================] - 1s 40ms/step - loss: 47.8999\n",
            "Epoch 52/100\n",
            "31/31 [==============================] - 1s 40ms/step - loss: 52.9299\n",
            "Epoch 53/100\n",
            "31/31 [==============================] - 1s 41ms/step - loss: 48.6632\n",
            "Epoch 54/100\n",
            "31/31 [==============================] - 1s 40ms/step - loss: 45.8338\n",
            "Epoch 55/100\n",
            "31/31 [==============================] - 1s 40ms/step - loss: 49.9223\n",
            "Epoch 56/100\n",
            "31/31 [==============================] - 1s 40ms/step - loss: 43.8217\n",
            "Epoch 57/100\n",
            "31/31 [==============================] - 1s 41ms/step - loss: 48.0453\n",
            "Epoch 58/100\n",
            "31/31 [==============================] - 1s 42ms/step - loss: 44.5169\n",
            "Epoch 59/100\n",
            "31/31 [==============================] - 1s 41ms/step - loss: 52.4924\n",
            "Epoch 60/100\n",
            "31/31 [==============================] - 1s 40ms/step - loss: 52.3913\n",
            "Epoch 61/100\n",
            "31/31 [==============================] - 1s 40ms/step - loss: 51.3635\n",
            "Epoch 62/100\n",
            "31/31 [==============================] - 1s 41ms/step - loss: 46.8951\n",
            "Epoch 63/100\n",
            "31/31 [==============================] - 1s 40ms/step - loss: 43.7924\n",
            "Epoch 64/100\n",
            "31/31 [==============================] - 1s 40ms/step - loss: 45.0693\n",
            "Epoch 65/100\n",
            "31/31 [==============================] - 1s 41ms/step - loss: 41.9526\n",
            "Epoch 66/100\n",
            "31/31 [==============================] - 1s 40ms/step - loss: 43.8442\n",
            "Epoch 67/100\n",
            "31/31 [==============================] - 1s 40ms/step - loss: 51.6383\n",
            "Epoch 68/100\n",
            "31/31 [==============================] - 1s 43ms/step - loss: 48.3306\n",
            "Epoch 69/100\n",
            "31/31 [==============================] - 2s 44ms/step - loss: 50.4872\n",
            "Epoch 70/100\n",
            "31/31 [==============================] - 1s 41ms/step - loss: 44.4211\n",
            "Epoch 71/100\n",
            "31/31 [==============================] - 1s 41ms/step - loss: 45.0978\n",
            "Epoch 72/100\n",
            "31/31 [==============================] - 1s 41ms/step - loss: 48.7570\n",
            "Epoch 73/100\n",
            "31/31 [==============================] - 1s 41ms/step - loss: 43.8418\n",
            "Epoch 74/100\n",
            "31/31 [==============================] - 1s 40ms/step - loss: 45.1499\n",
            "Epoch 75/100\n",
            "31/31 [==============================] - 1s 42ms/step - loss: 45.8363\n",
            "Epoch 76/100\n",
            "31/31 [==============================] - 1s 42ms/step - loss: 47.0266\n",
            "Epoch 77/100\n",
            "31/31 [==============================] - 1s 42ms/step - loss: 44.6569\n",
            "Epoch 78/100\n",
            "31/31 [==============================] - 1s 39ms/step - loss: 48.7822\n",
            "Epoch 79/100\n",
            "31/31 [==============================] - 1s 40ms/step - loss: 45.0669\n",
            "Epoch 80/100\n",
            "31/31 [==============================] - 1s 40ms/step - loss: 52.5983\n",
            "Epoch 81/100\n",
            "31/31 [==============================] - 1s 40ms/step - loss: 55.1305\n",
            "Epoch 82/100\n",
            "31/31 [==============================] - 1s 40ms/step - loss: 42.0271\n",
            "Epoch 83/100\n",
            "31/31 [==============================] - 1s 42ms/step - loss: 46.2461\n",
            "Epoch 84/100\n",
            "31/31 [==============================] - 1s 43ms/step - loss: 43.4018\n",
            "Epoch 85/100\n",
            "31/31 [==============================] - 1s 39ms/step - loss: 45.6803\n",
            "Epoch 86/100\n",
            "31/31 [==============================] - 1s 41ms/step - loss: 39.8838\n",
            "Epoch 87/100\n",
            "31/31 [==============================] - 1s 41ms/step - loss: 46.8049\n",
            "Epoch 88/100\n",
            "31/31 [==============================] - 1s 40ms/step - loss: 47.5273\n",
            "Epoch 89/100\n",
            "31/31 [==============================] - 1s 40ms/step - loss: 49.8811\n",
            "Epoch 90/100\n",
            "31/31 [==============================] - 1s 42ms/step - loss: 47.0887\n",
            "Epoch 91/100\n",
            "31/31 [==============================] - 1s 42ms/step - loss: 54.3088\n",
            "Epoch 92/100\n",
            "31/31 [==============================] - 1s 41ms/step - loss: 42.3811\n",
            "Epoch 93/100\n",
            "31/31 [==============================] - 1s 41ms/step - loss: 42.2538\n",
            "Epoch 94/100\n",
            "31/31 [==============================] - 1s 41ms/step - loss: 47.1556\n",
            "Epoch 95/100\n",
            "31/31 [==============================] - 1s 40ms/step - loss: 43.1066\n",
            "Epoch 96/100\n",
            "31/31 [==============================] - 1s 40ms/step - loss: 41.5071\n",
            "Epoch 97/100\n",
            "31/31 [==============================] - 1s 41ms/step - loss: 43.2033\n",
            "Epoch 98/100\n",
            "31/31 [==============================] - 1s 43ms/step - loss: 51.2075\n",
            "Epoch 99/100\n",
            "31/31 [==============================] - 1s 43ms/step - loss: 43.6789\n",
            "Epoch 100/100\n",
            "31/31 [==============================] - 1s 42ms/step - loss: 42.8390\n"
          ],
          "name": "stdout"
        },
        {
          "output_type": "execute_result",
          "data": {
            "text/plain": [
              "<tensorflow.python.keras.callbacks.History at 0x7f8c73c3d550>"
            ]
          },
          "metadata": {
            "tags": []
          },
          "execution_count": 11
        }
      ]
    }
  ]
}